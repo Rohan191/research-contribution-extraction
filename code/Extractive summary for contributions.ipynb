{
 "cells": [
  {
   "cell_type": "markdown",
   "metadata": {},
   "source": [
    "# Train model to generate contributing statements for a given document"
   ]
  },
  {
   "cell_type": "code",
   "execution_count": 20,
   "metadata": {},
   "outputs": [],
   "source": [
    "from sentence_transformers import SentenceTransformer\n",
    "from transformers import pipeline\n",
    "from transformers import AutoTokenizer, AutoModelForCausalLM, AutoModelForSequenceClassification\n",
    "import pandas as pd\n",
    "import numpy as np\n",
    "from transformers import TrainingArguments, Trainer\n",
    "from datasets import load_metric\n",
    "from torch.utils.data import Dataset, DataLoader\n",
    "import torch\n",
    "import torch.nn as nn\n",
    "from torch.autograd import Variable\n",
    "from sklearn.model_selection import train_test_split\n",
    "import os\n",
    "from torch.nn.utils.rnn import pack_padded_sequence, pad_sequence, pad_packed_sequence\n",
    "from sklearn.metrics import f1_score, accuracy_score\n",
    "import matplotlib.pyplot as plt\n",
    "from models import LSTMNet\n",
    "from constants import *"
   ]
  },
  {
   "cell_type": "code",
   "execution_count": 2,
   "metadata": {},
   "outputs": [
    {
     "data": {
      "text/html": [
       "<div>\n",
       "<style scoped>\n",
       "    .dataframe tbody tr th:only-of-type {\n",
       "        vertical-align: middle;\n",
       "    }\n",
       "\n",
       "    .dataframe tbody tr th {\n",
       "        vertical-align: top;\n",
       "    }\n",
       "\n",
       "    .dataframe thead th {\n",
       "        text-align: right;\n",
       "    }\n",
       "</style>\n",
       "<table border=\"1\" class=\"dataframe\">\n",
       "  <thead>\n",
       "    <tr style=\"text-align: right;\">\n",
       "      <th></th>\n",
       "      <th>doc_num</th>\n",
       "      <th>sentence</th>\n",
       "      <th>target</th>\n",
       "      <th>doc_path</th>\n",
       "      <th>abstract</th>\n",
       "    </tr>\n",
       "  </thead>\n",
       "  <tbody>\n",
       "    <tr>\n",
       "      <th>0</th>\n",
       "      <td>0</td>\n",
       "      <td>The reading comprehension task , that asks que...</td>\n",
       "      <td>0</td>\n",
       "      <td>/Users/rohantondulkar/Projects/Typeset/trial-d...</td>\n",
       "      <td>The reading comprehension task , that asks que...</td>\n",
       "    </tr>\n",
       "    <tr>\n",
       "      <th>1</th>\n",
       "      <td>0</td>\n",
       "      <td>Recent formulations of this task have typicall...</td>\n",
       "      <td>1</td>\n",
       "      <td>/Users/rohantondulkar/Projects/Typeset/trial-d...</td>\n",
       "      <td>The reading comprehension task , that asks que...</td>\n",
       "    </tr>\n",
       "    <tr>\n",
       "      <th>2</th>\n",
       "      <td>0</td>\n",
       "      <td>However , Rajpurkar et al . ( 2016 ) recently ...</td>\n",
       "      <td>0</td>\n",
       "      <td>/Users/rohantondulkar/Projects/Typeset/trial-d...</td>\n",
       "      <td>The reading comprehension task , that asks que...</td>\n",
       "    </tr>\n",
       "    <tr>\n",
       "      <th>3</th>\n",
       "      <td>0</td>\n",
       "      <td>In this paper , we focus on this answer extrac...</td>\n",
       "      <td>1</td>\n",
       "      <td>/Users/rohantondulkar/Projects/Typeset/trial-d...</td>\n",
       "      <td>The reading comprehension task , that asks que...</td>\n",
       "    </tr>\n",
       "    <tr>\n",
       "      <th>4</th>\n",
       "      <td>0</td>\n",
       "      <td>We show that scoring explicit span representat...</td>\n",
       "      <td>0</td>\n",
       "      <td>/Users/rohantondulkar/Projects/Typeset/trial-d...</td>\n",
       "      <td>The reading comprehension task , that asks que...</td>\n",
       "    </tr>\n",
       "  </tbody>\n",
       "</table>\n",
       "</div>"
      ],
      "text/plain": [
       "   doc_num                                           sentence  target  \\\n",
       "0        0  The reading comprehension task , that asks que...       0   \n",
       "1        0  Recent formulations of this task have typicall...       1   \n",
       "2        0  However , Rajpurkar et al . ( 2016 ) recently ...       0   \n",
       "3        0  In this paper , we focus on this answer extrac...       1   \n",
       "4        0  We show that scoring explicit span representat...       0   \n",
       "\n",
       "                                            doc_path  \\\n",
       "0  /Users/rohantondulkar/Projects/Typeset/trial-d...   \n",
       "1  /Users/rohantondulkar/Projects/Typeset/trial-d...   \n",
       "2  /Users/rohantondulkar/Projects/Typeset/trial-d...   \n",
       "3  /Users/rohantondulkar/Projects/Typeset/trial-d...   \n",
       "4  /Users/rohantondulkar/Projects/Typeset/trial-d...   \n",
       "\n",
       "                                            abstract  \n",
       "0  The reading comprehension task , that asks que...  \n",
       "1  The reading comprehension task , that asks que...  \n",
       "2  The reading comprehension task , that asks que...  \n",
       "3  The reading comprehension task , that asks que...  \n",
       "4  The reading comprehension task , that asks que...  "
      ]
     },
     "execution_count": 2,
     "metadata": {},
     "output_type": "execute_result"
    }
   ],
   "source": [
    "data_df = pd.read_csv(os.path.join(BASE_DIR, 'generated_data', 'data.csv'))\n",
    "data_df.head()"
   ]
  },
  {
   "cell_type": "markdown",
   "metadata": {},
   "source": [
    "## Split extracted data in training and validation. Data adjustments to make it ready for pytorch Dataset"
   ]
  },
  {
   "cell_type": "code",
   "execution_count": 3,
   "metadata": {},
   "outputs": [
    {
     "data": {
      "text/html": [
       "<div>\n",
       "<style scoped>\n",
       "    .dataframe tbody tr th:only-of-type {\n",
       "        vertical-align: middle;\n",
       "    }\n",
       "\n",
       "    .dataframe tbody tr th {\n",
       "        vertical-align: top;\n",
       "    }\n",
       "\n",
       "    .dataframe thead th {\n",
       "        text-align: right;\n",
       "    }\n",
       "</style>\n",
       "<table border=\"1\" class=\"dataframe\">\n",
       "  <thead>\n",
       "    <tr style=\"text-align: right;\">\n",
       "      <th></th>\n",
       "      <th>doc_num</th>\n",
       "      <th>sentence</th>\n",
       "      <th>target</th>\n",
       "      <th>doc_path</th>\n",
       "      <th>abstract</th>\n",
       "    </tr>\n",
       "  </thead>\n",
       "  <tbody>\n",
       "    <tr>\n",
       "      <th>0</th>\n",
       "      <td>6</td>\n",
       "      <td>The reading comprehension task , that asks que...</td>\n",
       "      <td>0</td>\n",
       "      <td>/Users/rohantondulkar/Projects/Typeset/trial-d...</td>\n",
       "      <td>The reading comprehension task , that asks que...</td>\n",
       "    </tr>\n",
       "    <tr>\n",
       "      <th>1</th>\n",
       "      <td>6</td>\n",
       "      <td>Recent formulations of this task have typicall...</td>\n",
       "      <td>1</td>\n",
       "      <td>/Users/rohantondulkar/Projects/Typeset/trial-d...</td>\n",
       "      <td>The reading comprehension task , that asks que...</td>\n",
       "    </tr>\n",
       "    <tr>\n",
       "      <th>2</th>\n",
       "      <td>6</td>\n",
       "      <td>However , Rajpurkar et al . ( 2016 ) recently ...</td>\n",
       "      <td>0</td>\n",
       "      <td>/Users/rohantondulkar/Projects/Typeset/trial-d...</td>\n",
       "      <td>The reading comprehension task , that asks que...</td>\n",
       "    </tr>\n",
       "    <tr>\n",
       "      <th>3</th>\n",
       "      <td>6</td>\n",
       "      <td>In this paper , we focus on this answer extrac...</td>\n",
       "      <td>1</td>\n",
       "      <td>/Users/rohantondulkar/Projects/Typeset/trial-d...</td>\n",
       "      <td>The reading comprehension task , that asks que...</td>\n",
       "    </tr>\n",
       "    <tr>\n",
       "      <th>4</th>\n",
       "      <td>6</td>\n",
       "      <td>We show that scoring explicit span representat...</td>\n",
       "      <td>0</td>\n",
       "      <td>/Users/rohantondulkar/Projects/Typeset/trial-d...</td>\n",
       "      <td>The reading comprehension task , that asks que...</td>\n",
       "    </tr>\n",
       "  </tbody>\n",
       "</table>\n",
       "</div>"
      ],
      "text/plain": [
       "   doc_num                                           sentence  target  \\\n",
       "0        6  The reading comprehension task , that asks que...       0   \n",
       "1        6  Recent formulations of this task have typicall...       1   \n",
       "2        6  However , Rajpurkar et al . ( 2016 ) recently ...       0   \n",
       "3        6  In this paper , we focus on this answer extrac...       1   \n",
       "4        6  We show that scoring explicit span representat...       0   \n",
       "\n",
       "                                            doc_path  \\\n",
       "0  /Users/rohantondulkar/Projects/Typeset/trial-d...   \n",
       "1  /Users/rohantondulkar/Projects/Typeset/trial-d...   \n",
       "2  /Users/rohantondulkar/Projects/Typeset/trial-d...   \n",
       "3  /Users/rohantondulkar/Projects/Typeset/trial-d...   \n",
       "4  /Users/rohantondulkar/Projects/Typeset/trial-d...   \n",
       "\n",
       "                                            abstract  \n",
       "0  The reading comprehension task , that asks que...  \n",
       "1  The reading comprehension task , that asks que...  \n",
       "2  The reading comprehension task , that asks que...  \n",
       "3  The reading comprehension task , that asks que...  \n",
       "4  The reading comprehension task , that asks que...  "
      ]
     },
     "execution_count": 3,
     "metadata": {},
     "output_type": "execute_result"
    }
   ],
   "source": [
    "doc_nums = list(data_df['doc_num'].unique())\n",
    "train_doc_nums, val_doc_nums = train_test_split(doc_nums, test_size=0.2)\n",
    "train_df = data_df[data_df['doc_num'].isin(train_doc_nums)].reset_index(drop=True)\n",
    "train_doc_num_map = {}\n",
    "for i in range(len(train_doc_nums)):\n",
    "    train_doc_num_map[train_doc_nums[i]] = i\n",
    "train_df['doc_num'] = train_df['doc_num'].apply(lambda x: train_doc_num_map[x])\n",
    "\n",
    "val_df = data_df[data_df['doc_num'].isin(val_doc_nums)].reset_index(drop=True)\n",
    "val_doc_num_map = {}\n",
    "for i in range(len(val_doc_nums)):\n",
    "    val_doc_num_map[val_doc_nums[i]] = i\n",
    "val_df['doc_num'] = val_df['doc_num'].apply(lambda x: val_doc_num_map[x])\n",
    "\n",
    "train_df.head()"
   ]
  },
  {
   "cell_type": "markdown",
   "metadata": {},
   "source": [
    "## Use sentence tranformers to generate embeddings for sentences using Sentence Bert i.e. SBert"
   ]
  },
  {
   "cell_type": "code",
   "execution_count": 4,
   "metadata": {},
   "outputs": [],
   "source": [
    "sentence_transformer_model = SentenceTransformer('sentence-transformers/all-MiniLM-L6-v2')\n",
    "train_embeddings = sentence_transformer_model.encode(train_df['sentence'].to_list())\n",
    "val_embeddings = sentence_transformer_model.encode(val_df['sentence'].to_list())"
   ]
  },
  {
   "cell_type": "markdown",
   "metadata": {},
   "source": [
    "## Dataset, collate function, DataLoader and hyperparameters setup to train LSTM model on sentence embeddings"
   ]
  },
  {
   "cell_type": "code",
   "execution_count": 5,
   "metadata": {},
   "outputs": [],
   "source": [
    "class DocumentSentences(Dataset):\n",
    "    \n",
    "    def __init__(self, embeddings, data_df):\n",
    "        self.embeddings = embeddings\n",
    "        self.data_df = data_df\n",
    "        \n",
    "    def __len__(self):\n",
    "        return self.data_df['doc_num'].unique().shape[0]\n",
    "        \n",
    "    def __getitem__(self, idx):\n",
    "        doc_df = self.data_df[self.data_df['doc_num']==idx]\n",
    "        targets = doc_df['target'].to_list()\n",
    "        targets = torch.LongTensor(targets)\n",
    "        embeddings = self.embeddings[doc_df.index.to_list()]\n",
    "        embeddings = torch.FloatTensor(embeddings)\n",
    "        return embeddings, targets, len(targets), idx"
   ]
  },
  {
   "cell_type": "code",
   "execution_count": 6,
   "metadata": {},
   "outputs": [],
   "source": [
    "train_dataset = DocumentSentences(train_embeddings, train_df)\n",
    "val_dataset = DocumentSentences(val_embeddings, val_df)"
   ]
  },
  {
   "cell_type": "code",
   "execution_count": 7,
   "metadata": {},
   "outputs": [],
   "source": [
    "def collate_fn(data):\n",
    "    embeddings, labels, lengths, idx = zip(*data)\n",
    "    max_len = max(lengths)\n",
    "    n_ftrs = data[0][0].size(1)\n",
    "    features = torch.zeros((len(data), max_len, n_ftrs))\n",
    "    lengths = torch.tensor(lengths)\n",
    "    targets = torch.zeros((len(data), max_len))\n",
    "    for i in range(len(data)):\n",
    "        j = data[i][1].size(0)\n",
    "        targets[i] = torch.cat([data[i][1], torch.zeros(max_len-j)])\n",
    "\n",
    "    for i in range(len(data)):\n",
    "        j, k = data[i][0].size(0), data[i][0].size(1)\n",
    "        features[i] = torch.cat([data[i][0], torch.zeros((max_len - j, k))])\n",
    "    return features.float(), targets, lengths, idx"
   ]
  },
  {
   "cell_type": "code",
   "execution_count": 8,
   "metadata": {},
   "outputs": [],
   "source": [
    "train_dataloader = DataLoader(train_dataset, shuffle=True, batch_size=2, collate_fn=collate_fn)\n",
    "val_dataloader = DataLoader(val_dataset, batch_size=2, collate_fn=collate_fn)"
   ]
  },
  {
   "cell_type": "code",
   "execution_count": 21,
   "metadata": {},
   "outputs": [],
   "source": [
    "lstm_net = LSTMNet(EMBEDDING_SIZE, HIDDEN_SIZE)\n",
    "criterion = nn.BCELoss(reduction='none')\n",
    "optimizer = torch.optim.Adagrad(lstm_net.parameters(), lr=0.01)"
   ]
  },
  {
   "cell_type": "code",
   "execution_count": 22,
   "metadata": {},
   "outputs": [],
   "source": [
    "def plot_confusion_matrix(predicted, labels):\n",
    "    from sklearn.datasets import make_classification\n",
    "    from sklearn.metrics import ConfusionMatrixDisplay\n",
    "    ConfusionMatrixDisplay.from_predictions(labels, predicted)\n"
   ]
  },
  {
   "cell_type": "code",
   "execution_count": 23,
   "metadata": {},
   "outputs": [],
   "source": [
    "def eval(loader, plot_cm=False):\n",
    "    running_loss = 0\n",
    "    num_batches = 0\n",
    "    total = 0\n",
    "    all_predicted = []\n",
    "    all_labels = []\n",
    "    output_dict = {}\n",
    "    for i, data in enumerate(loader, 0):\n",
    "        inputs, labels, lengths, idx = data\n",
    "        inputs = Variable(inputs)\n",
    "        labels = Variable(labels)\n",
    "\n",
    "        h_0 = Variable(torch.zeros(1, inputs.shape[0], HIDDEN_SIZE))\n",
    "        c_0 = Variable(torch.zeros(1, inputs.shape[0], HIDDEN_SIZE))\n",
    "        packed_input = pack_padded_sequence(inputs, lengths.cpu().numpy(), batch_first=True, enforce_sorted=False)\n",
    "        outputs = lstm_net(packed_input, h_0, c_0)\n",
    "        outputs = torch.squeeze(outputs)\n",
    "        \n",
    "        predicted = (outputs > THRESHOLD).int()\n",
    "        total += labels.size(0)\n",
    "        for i in range(labels.size(0)):\n",
    "            all_predicted.extend(predicted[i][:lengths[i]].tolist())\n",
    "            all_labels.extend(labels[i][:lengths[i]].tolist())\n",
    "            output_dict[idx[i]] = predicted[i][:lengths[i]]\n",
    "        loss = criterion(outputs, labels)\n",
    "        weights = labels.clone()\n",
    "        weights[labels==0] = WEIGHTS_0\n",
    "        weights[labels==1] = WEIGHTS_1\n",
    "        loss = torch.mean(weights*loss)\n",
    "\n",
    "        running_loss += loss.item()\n",
    "        num_batches += 1\n",
    "    f1_scr = f1_score(all_labels, all_predicted)\n",
    "    accuracy = accuracy_score(all_labels, all_predicted)\n",
    "    if plot_cm:\n",
    "        plot_confusion_matrix(all_predicted, all_labels)\n",
    "    return running_loss/num_batches, accuracy, f1_scr, output_dict"
   ]
  },
  {
   "cell_type": "markdown",
   "metadata": {},
   "source": [
    "#### Main training method"
   ]
  },
  {
   "cell_type": "code",
   "execution_count": 24,
   "metadata": {
    "scrolled": true
   },
   "outputs": [
    {
     "name": "stdout",
     "output_type": "stream",
     "text": [
      "Training metrics at epoch 1. Acc: 0.860046378393125, F1 score: 0.0984182776801406\n",
      "Val loss: 0.09562489837408066, Val accuracy: 0.9215575620767494, Val F1 score: 0.014184397163120567\n",
      "Training metrics at epoch 2. Acc: 0.8751875596780794, F1 score: 0.13270142180094788\n",
      "Val loss: 0.09373789429664611, Val accuracy: 0.9221218961625283, Val F1 score: 0.08\n",
      "Training metrics at epoch 3. Acc: 0.840812985950075, F1 score: 0.18448637316561847\n",
      "Val loss: 0.09260396510362626, Val accuracy: 0.8803611738148984, Val F1 score: 0.18461538461538463\n",
      "Training metrics at epoch 4. Acc: 0.8297640158232165, F1 score: 0.2544802867383512\n",
      "Val loss: 0.09294414222240448, Val accuracy: 0.7579006772009029, Val F1 score: 0.192090395480226\n",
      "Training metrics at epoch 5. Acc: 0.8174873823489293, F1 score: 0.23367697594501718\n",
      "Val loss: 0.09524733871221543, Val accuracy: 0.7223476297968398, Val F1 score: 0.17449664429530204\n",
      "Training metrics at epoch 6. Acc: 0.8095757741099441, F1 score: 0.2848360655737705\n",
      "Val loss: 0.09257655292749405, Val accuracy: 0.8194130925507901, Val F1 score: 0.2079207920792079\n",
      "Training metrics at epoch 7. Acc: 0.8068476333378802, F1 score: 0.2905811623246493\n",
      "Val loss: 0.09151585549116134, Val accuracy: 0.801354401805869, Val F1 score: 0.1926605504587156\n",
      "Training metrics at epoch 8. Acc: 0.7807938889646706, F1 score: 0.2867288060363959\n",
      "Val loss: 0.09725912809371948, Val accuracy: 0.626410835214447, Val F1 score: 0.18872549019607843\n",
      "Training metrics at epoch 9. Acc: 0.7824307734279089, F1 score: 0.3127962085308057\n",
      "Val loss: 0.09226619452238083, Val accuracy: 0.7579006772009029, Val F1 score: 0.19512195121951223\n",
      "Training metrics at epoch 10. Acc: 0.7918428590915291, F1 score: 0.3307017543859649\n",
      "Val loss: 0.09726099222898484, Val accuracy: 0.7928893905191874, Val F1 score: 0.17897091722595077\n",
      "Training metrics at epoch 11. Acc: 0.7947074069021961, F1 score: 0.34077967586508984\n",
      "Val loss: 0.09305071383714676, Val accuracy: 0.7607223476297968, Val F1 score: 0.2030075187969925\n",
      "Training metrics at epoch 12. Acc: 0.8053471559132451, F1 score: 0.3749452474813841\n",
      "Val loss: 0.09356656819581985, Val accuracy: 0.7849887133182845, Val F1 score: 0.1910828025477707\n",
      "Training metrics at epoch 13. Acc: 0.8249897694721048, F1 score: 0.39107736117702896\n",
      "Val loss: 0.09056078791618347, Val accuracy: 0.7669300225733634, Val F1 score: 0.20729366602687144\n",
      "Training metrics at epoch 14. Acc: 0.8072568544536898, F1 score: 0.3848498040922943\n",
      "Val loss: 0.09245625436306, Val accuracy: 0.7635440180586908, Val F1 score: 0.20190476190476186\n",
      "Training metrics at epoch 15. Acc: 0.8207611512754058, F1 score: 0.4043517679057117\n",
      "Val loss: 0.09500256478786469, Val accuracy: 0.7336343115124153, Val F1 score: 0.22622950819672127\n",
      "Training metrics at epoch 16. Acc: 0.8270358750511526, F1 score: 0.4334226988382484\n",
      "Val loss: 0.09178762137889862, Val accuracy: 0.822234762979684, Val F1 score: 0.2517814726840855\n",
      "Training metrics at epoch 17. Acc: 0.8374028099849953, F1 score: 0.4409005628517823\n",
      "Val loss: 0.09246418327093124, Val accuracy: 0.7917607223476298, Val F1 score: 0.25754527162977864\n",
      "Training metrics at epoch 18. Acc: 0.827308689128359, F1 score: 0.4471615720524018\n",
      "Val loss: 0.09761307537555694, Val accuracy: 0.8329571106094809, Val F1 score: 0.25999999999999995\n",
      "Training metrics at epoch 19. Acc: 0.8395853226026463, F1 score: 0.46203110704483075\n",
      "Val loss: 0.10053893178701401, Val accuracy: 0.7979683972911964, Val F1 score: 0.20444444444444446\n",
      "Training metrics at epoch 20. Acc: 0.842995498567726, F1 score: 0.4568192543652666\n",
      "Val loss: 0.09649771451950073, Val accuracy: 0.718961625282167, Val F1 score: 0.22429906542056074\n",
      "Training metrics at epoch 21. Acc: 0.8158504978856909, F1 score: 0.43181818181818177\n",
      "Val loss: 0.09454391449689865, Val accuracy: 0.7607223476297968, Val F1 score: 0.22627737226277372\n",
      "Training metrics at epoch 22. Acc: 0.8544536898103943, F1 score: 0.4964605946201038\n",
      "Val loss: 0.10467106252908706, Val accuracy: 0.8267494356659142, Val F1 score: 0.25665859564164645\n",
      "Training metrics at epoch 23. Acc: 0.8480425589960442, F1 score: 0.49363636363636365\n",
      "Val loss: 0.10119924694299698, Val accuracy: 0.7821670428893905, Val F1 score: 0.24015748031496068\n",
      "Training metrics at epoch 24. Acc: 0.8629109262037921, F1 score: 0.5248226950354611\n",
      "Val loss: 0.11778049319982528, Val accuracy: 0.8261851015801355, Val F1 score: 0.25961538461538464\n",
      "Training metrics at epoch 25. Acc: 0.8494066293820761, F1 score: 0.5004524886877829\n",
      "Val loss: 0.11020044535398484, Val accuracy: 0.7827313769751693, Val F1 score: 0.24657534246575344\n",
      "Training metrics at epoch 26. Acc: 0.8163961260401037, F1 score: 0.44471947194719474\n",
      "Val loss: 0.10356788486242294, Val accuracy: 0.7979683972911964, Val F1 score: 0.2251082251082251\n",
      "Training metrics at epoch 27. Acc: 0.8641385895512208, F1 score: 0.5229885057471265\n",
      "Val loss: 0.11324291229248047, Val accuracy: 0.8335214446952596, Val F1 score: 0.2606516290726817\n",
      "Training metrics at epoch 28. Acc: 0.872050197790206, F1 score: 0.5379310344827587\n",
      "Val loss: 0.10503199398517608, Val accuracy: 0.7545146726862303, Val F1 score: 0.22182468694096602\n",
      "Training metrics at epoch 29. Acc: 0.8724594189060155, F1 score: 0.5519885002395784\n",
      "Val loss: 0.1230321004986763, Val accuracy: 0.8244920993227991, Val F1 score: 0.268235294117647\n",
      "Training metrics at epoch 30. Acc: 0.8785977356431592, F1 score: 0.5658536585365853\n",
      "Val loss: 0.12041234672069549, Val accuracy: 0.8115124153498872, Val F1 score: 0.2675438596491228\n",
      "Finished Training\n"
     ]
    }
   ],
   "source": [
    "losses = []\n",
    "train_f1_scores = []\n",
    "val_losses = []\n",
    "val_f1_scores = []\n",
    "for epoch in range(EPOCHS):\n",
    "    running_loss = 0.0\n",
    "    all_predicted = []\n",
    "    all_labels = []\n",
    "    for i, data in enumerate(train_dataloader, 0):\n",
    "        # get the inputs\n",
    "        inputs, labels, lengths, idx = data\n",
    "        inputs = Variable(inputs)\n",
    "        labels = Variable(labels)\n",
    "        \n",
    "        # zero the parameter gradients\n",
    "        optimizer.zero_grad()\n",
    "        packed_input = pack_padded_sequence(inputs, lengths.cpu().numpy(), batch_first=True, enforce_sorted=False)\n",
    "\n",
    "        # forward + backward + optimize\n",
    "        h_0 = Variable(torch.zeros(1, inputs.shape[0], HIDDEN_SIZE))\n",
    "        c_0 = Variable(torch.zeros(1, inputs.shape[0], HIDDEN_SIZE))\n",
    "        outputs = lstm_net(packed_input, h_0, c_0)\n",
    "        outputs = torch.squeeze(outputs)\n",
    "        loss = criterion(outputs, labels)\n",
    "        weights = labels.clone()\n",
    "        weights[labels==0] = WEIGHTS_0\n",
    "        weights[labels==1] = WEIGHTS_1\n",
    "        loss = torch.mean(weights*loss)\n",
    "        loss.backward()\n",
    "        optimizer.step()\n",
    "        predicted = (outputs > THRESHOLD).int()\n",
    "        labels=labels.long()\n",
    "        for i in range(labels.size(0)):\n",
    "            all_predicted.extend(predicted[i][:lengths[i]].tolist())\n",
    "            all_labels.extend(labels[i][:lengths[i]].tolist())\n",
    "        running_loss += loss.item()\n",
    "        \n",
    "        # print statistics\n",
    "        if i % 10 == 9:    # print every 10 mini-batches\n",
    "            print('[%d, %5d] loss: %.5f' %\n",
    "                  (epoch + 1, i + 1, running_loss / 10))\n",
    "            losses.append(running_loss / 10)\n",
    "            running_loss = 0.0\n",
    "            \n",
    "    f1_scr = f1_score(all_labels, all_predicted)\n",
    "    train_f1_scores.append(f1_scr)\n",
    "    accuracy = accuracy_score(all_labels, all_predicted)\n",
    "    print('Training metrics at epoch {0}. Acc: {1}, F1 score: {2}'.format(epoch+1, accuracy, f1_scr))  \n",
    "    val_loss, val_acc, val_f1_scr, _ = eval(val_dataloader)\n",
    "    val_losses.append(val_loss)\n",
    "    val_f1_scores.append(val_f1_scr)\n",
    "    print('Val loss: {0}, Val accuracy: {1}, Val F1 score: {2}'.format(val_loss, val_acc, val_f1_scr))\n",
    "            \n",
    "print('Finished Training')\n",
    "\n"
   ]
  },
  {
   "cell_type": "code",
   "execution_count": 13,
   "metadata": {},
   "outputs": [],
   "source": [
    "#torch.save(lstm_net,  os.path.join(BASE_DIR, 'models', 'trained_model.pt'))"
   ]
  },
  {
   "cell_type": "markdown",
   "metadata": {},
   "source": [
    "#### Plot basic graphs post training"
   ]
  },
  {
   "cell_type": "code",
   "execution_count": 25,
   "metadata": {},
   "outputs": [
    {
     "data": {
      "image/png": "[encoded data removed]",
      "text/plain": [
       "<Figure size 432x288 with 1 Axes>"
      ]
     },
     "metadata": {
      "needs_background": "light"
     },
     "output_type": "display_data"
    }
   ],
   "source": [
    "plt.plot(list(range(EPOCHS)), train_f1_scores, label = \"Train F1 score\")\n",
    "plt.plot(list(range(EPOCHS)), val_f1_scores, label = \"Validation F1 scores\")\n",
    "plt.legend()\n",
    "plt.show()"
   ]
  },
  {
   "cell_type": "code",
   "execution_count": 28,
   "metadata": {},
   "outputs": [
    {
     "data": {
      "image/png": "[encoded data removed]",
      "text/plain": [
       "<Figure size 432x288 with 2 Axes>"
      ]
     },
     "metadata": {
      "needs_background": "light"
     },
     "output_type": "display_data"
    },
    {
     "data": {
      "image/png": "[encoded data removed]",
      "text/plain": [
       "<Figure size 432x288 with 2 Axes>"
      ]
     },
     "metadata": {
      "needs_background": "light"
     },
     "output_type": "display_data"
    }
   ],
   "source": [
    "_,_,_,train_output_dict  = eval(train_dataloader, plot_cm=True)\n",
    "_,_,_,val_output_dict = eval(val_dataloader, plot_cm=True)"
   ]
  },
  {
   "cell_type": "markdown",
   "metadata": {},
   "source": [
    "### Map and store predictions for every sentence in train and validation"
   ]
  },
  {
   "cell_type": "code",
   "execution_count": 29,
   "metadata": {
    "scrolled": true
   },
   "outputs": [],
   "source": [
    "train_df['predicted'] = 999\n",
    "for doc_num, predicted in train_output_dict.items():\n",
    "    train_df.loc[train_df['doc_num']==doc_num, 'predicted'] = predicted.tolist()\n",
    "    \n",
    "val_df['predicted'] = 999\n",
    "for doc_num, predicted in val_output_dict.items():\n",
    "    val_df.loc[val_df['doc_num']==doc_num, 'predicted'] = predicted.tolist()"
   ]
  },
  {
   "cell_type": "code",
   "execution_count": 30,
   "metadata": {},
   "outputs": [],
   "source": [
    "train_df.to_csv(os.path.join(BASE_DIR, 'generated_data', 'train_df_predicted.csv'), index=False)\n",
    "val_df.to_csv(os.path.join(BASE_DIR, 'generated_data', 'val_df_predicted.csv'), index=False)"
   ]
  },
  {
   "cell_type": "code",
   "execution_count": null,
   "metadata": {},
   "outputs": [],
   "source": []
  }
 ],
 "metadata": {
  "kernelspec": {
   "display_name": "Python [conda env:dl_practice]",
   "language": "python",
   "name": "conda-env-dl_practice-py"
  },
  "language_info": {
   "codemirror_mode": {
    "name": "ipython",
    "version": 3
   },
   "file_extension": ".py",
   "mimetype": "text/x-python",
   "name": "python",
   "nbconvert_exporter": "python",
   "pygments_lexer": "ipython3",
   "version": "3.8.12"
  }
 },
 "nbformat": 4,
 "nbformat_minor": 4
}
